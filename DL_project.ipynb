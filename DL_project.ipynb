{
  "nbformat": 4,
  "nbformat_minor": 0,
  "metadata": {
    "colab": {
      "name": "DL_project.ipynb",
      "provenance": [],
      "collapsed_sections": []
    },
    "kernelspec": {
      "name": "python3",
      "display_name": "Python 3"
    },
    "accelerator": "GPU"
  },
  "cells": [
    {
      "cell_type": "code",
      "metadata": {
        "id": "76Ujp2zrQ3la",
        "colab_type": "code",
        "outputId": "b7c36d43-abc5-49f8-ae25-13eedcba8d8f",
        "colab": {
          "base_uri": "https://localhost:8080/",
          "height": 139
        }
      },
      "source": [
        "import os\n",
        "from google.colab import drive\n",
        "drive.mount('/content/gdrive', force_remount=True)\n",
        "\n",
        "! pip install tensorboardX==1.4  "
      ],
      "execution_count": 1,
      "outputs": [
        {
          "output_type": "stream",
          "text": [
            "Mounted at /content/gdrive\n",
            "Requirement already satisfied: tensorboardX==1.4 in /usr/local/lib/python3.6/dist-packages (1.4)\n",
            "Requirement already satisfied: numpy in /usr/local/lib/python3.6/dist-packages (from tensorboardX==1.4) (1.18.3)\n",
            "Requirement already satisfied: six in /usr/local/lib/python3.6/dist-packages (from tensorboardX==1.4) (1.12.0)\n",
            "Requirement already satisfied: protobuf>=3.2.0 in /usr/local/lib/python3.6/dist-packages (from tensorboardX==1.4) (3.10.0)\n",
            "Requirement already satisfied: setuptools in /usr/local/lib/python3.6/dist-packages (from protobuf>=3.2.0->tensorboardX==1.4) (46.1.3)\n"
          ],
          "name": "stdout"
        }
      ]
    },
    {
      "cell_type": "code",
      "metadata": {
        "id": "emkVxCvlRTfb",
        "colab_type": "code",
        "colab": {}
      },
      "source": [
        "os.chdir(\"/content/gdrive/My Drive/Deep_Learning_FP/monodepth2\")"
      ],
      "execution_count": 0,
      "outputs": []
    },
    {
      "cell_type": "code",
      "metadata": {
        "id": "LVGKGTsefJh8",
        "colab_type": "code",
        "colab": {
          "base_uri": "https://localhost:8080/",
          "height": 34
        },
        "outputId": "bfdf7c72-68e6-4608-98b0-a34edd8e9772"
      },
      "source": [
        "os.getcwd()"
      ],
      "execution_count": 3,
      "outputs": [
        {
          "output_type": "execute_result",
          "data": {
            "text/plain": [
              "'/content/gdrive/My Drive/Deep_Learning_FP/monodepth2'"
            ]
          },
          "metadata": {
            "tags": []
          },
          "execution_count": 3
        }
      ]
    },
    {
      "cell_type": "code",
      "metadata": {
        "id": "1XsNTpKce4pN",
        "colab_type": "code",
        "colab": {
          "base_uri": "https://localhost:8080/",
          "height": 710
        },
        "outputId": "5126ad3d-aa36-41bb-93d3-dc7841dd76de"
      },
      "source": [
        "# don't use pretrained weights\n",
        "! python train.py \\\n",
        "    --dataset dl \\\n",
        "    --data_path /content/gdrive/My\\ Drive/Deep_Learning_FP \\\n",
        "    --log_dir /content/gdrive/My\\ Drive/Deep_Learning_FP/log_savings \\\n",
        "    --split DL_sp_test  \\\n",
        "    --weights_init scratch \\\n",
        "    --height 256 \\\n",
        "    --width 320"
      ],
      "execution_count": 0,
      "outputs": [
        {
          "output_type": "stream",
          "text": [
            "Training model named:\n",
            "   mdp\n",
            "Models and tensorboard events files are saved to:\n",
            "   /content/gdrive/My Drive/Deep_Learning_FP/log_savings\n",
            "Training is using:\n",
            "   cuda\n",
            "Using split:\n",
            "   DL_sp_test\n",
            "There are 3844 training items and 1116 validation items\n",
            "\n",
            "/usr/local/lib/python3.6/dist-packages/torch/optim/lr_scheduler.py:122: UserWarning: Detected call of `lr_scheduler.step()` before `optimizer.step()`. In PyTorch 1.1.0 and later, you should call them in the opposite order: `optimizer.step()` before `lr_scheduler.step()`.  Failure to do this will result in PyTorch skipping the first value of the learning rate schedule. See more details at https://pytorch.org/docs/stable/optim.html#how-to-adjust-learning-rate\n",
            "  \"https://pytorch.org/docs/stable/optim.html#how-to-adjust-learning-rate\", UserWarning)\n",
            "Training\n",
            "/usr/local/lib/python3.6/dist-packages/torch/nn/functional.py:2705: UserWarning: Default grid_sample and affine_grid behavior has changed to align_corners=False since 1.3.0. Please specify align_corners=True if the old behavior is desired. See the documentation of grid_sample for details.\n",
            "  warnings.warn(\"Default grid_sample and affine_grid behavior has changed \"\n",
            "epoch   0 | batch      0 | examples/s:   2.6 | loss: 0.09293 | time elapsed: 00h00m29s | time left: 00h00m00s\n",
            "epoch   0 | batch    250 | examples/s:  16.3 | loss: 0.08339 | time elapsed: 00h04m04s | time left: 01h40m15s\n",
            "Training\n",
            "epoch   1 | batch      0 | examples/s:   4.8 | loss: 0.10182 | time elapsed: 00h05m10s | time left: 01h38m12s\n",
            "epoch   1 | batch    250 | examples/s:  16.2 | loss: 0.08606 | time elapsed: 00h08m48s | time left: 01h30m00s\n",
            "Training\n",
            "epoch   2 | batch      0 | examples/s:   4.8 | loss: 0.08721 | time elapsed: 00h09m53s | time left: 01h29m01s\n",
            "epoch   2 | batch    250 | examples/s:  16.8 | loss: 0.07561 | time elapsed: 00h13m24s | time left: 01h23m03s\n",
            "Training\n",
            "epoch   3 | batch      0 | examples/s:   3.6 | loss: 0.08938 | time elapsed: 00h14m26s | time left: 01h21m52s\n",
            "epoch   3 | batch    250 | examples/s:  14.9 | loss: 0.09134 | time elapsed: 00h18m14s | time left: 01h18m16s\n",
            "Training\n",
            "epoch   4 | batch      0 | examples/s:   3.7 | loss: 0.06498 | time elapsed: 00h19m23s | time left: 01h17m33s\n",
            "epoch   4 | batch    250 | examples/s:  10.1 | loss: 0.09234 | time elapsed: 00h23m13s | time left: 01h13m56s\n",
            "Training\n",
            "epoch   5 | batch      0 | examples/s:   4.2 | loss: 0.07419 | time elapsed: 00h24m22s | time left: 01h13m08s\n",
            "epoch   5 | batch    250 | examples/s:  12.9 | loss: 0.07785 | time elapsed: 00h28m10s | time left: 01h09m17s\n",
            "Training\n",
            "epoch   6 | batch      0 | examples/s:   4.2 | loss: 0.07979 | time elapsed: 00h29m18s | time left: 01h08m23s\n",
            "epoch   6 | batch     80 | examples/s:  18.5 | loss: 0.07543 | time elapsed: 00h30m36s | time left: 01h07m19s\n",
            "Training\n",
            "Training\n",
            "Training\n"
          ],
          "name": "stdout"
        }
      ]
    },
    {
      "cell_type": "code",
      "metadata": {
        "id": "72zjQadfxTuz",
        "colab_type": "code",
        "colab": {}
      },
      "source": [
        ""
      ],
      "execution_count": 0,
      "outputs": []
    }
  ]
}